{
 "cells": [
  {
   "cell_type": "code",
   "execution_count": 1,
   "id": "332f78da-a3cc-48f2-8a74-a4ac598a2fcb",
   "metadata": {},
   "outputs": [
    {
     "name": "stdout",
     "output_type": "stream",
     "text": [
      "Header: ['name', 'age', 'city']\n",
      "row: ['Alice', '30', 'New York']\n",
      "row: ['Bob', '25', 'Los Angeles']\n",
      "row: ['Charlie', '35', 'Chicago']\n"
     ]
    }
   ],
   "source": [
    "import csv\n",
    "def read_csv(file_path):\n",
    "    with open(file_path,'r') as file:\n",
    "        csv_reader = csv.reader(file)\n",
    "        header = next(csv_reader)\n",
    "        print(f'Header: {header}')\n",
    "        for row in csv_reader:\n",
    "            if row: \n",
    "                print(f'row: {row}')\n",
    "                \n",
    "file_path = './csv/example.csv'\n",
    "read_csv(file_path)\n",
    "\n",
    "# import pandas as pd\n",
    "# pd.read_csv('./example.csv')"
   ]
  },
  {
   "cell_type": "code",
   "execution_count": 2,
   "id": "4b1881fb-bd28-4b82-9df0-a80b11408134",
   "metadata": {},
   "outputs": [
    {
     "name": "stdout",
     "output_type": "stream",
     "text": [
      "{'name': 'Alice', 'age': 30, 'city': 'Wonderland'}\n"
     ]
    }
   ],
   "source": [
    "import json\n",
    "def read_json(file_path):\n",
    "    with open(file_path,'r') as file:\n",
    "        data = json.load(file)\n",
    "    print(data)\n",
    "file_path = './json/example.json'\n",
    "read_json(file_path)\n",
    "\n",
    "# person = '{\"name\": \"John\", \"age\": 30, \"city\": \"New York\"}'\n",
    "# print(json.loads(person))"
   ]
  },
  {
   "cell_type": "code",
   "execution_count": 3,
   "id": "568d8f74-2d78-4333-be99-99fe3519335b",
   "metadata": {},
   "outputs": [
    {
     "name": "stdout",
     "output_type": "stream",
     "text": [
      "Title: Sample HTML\n",
      "Header: Welcome to the sample HTML file\n",
      "Paragraph 1: This is a simple HTML file for demonstration purposes.\n",
      "Paragraph 2: This is a simple HTML file for demonstration purposes.\n",
      "Paragraph 3: This is a simple HTML file for demonstration purposes.\n",
      "List Item: Item 1\n",
      "List Item: Item 2\n",
      "List Item: Item 3\n"
     ]
    }
   ],
   "source": [
    "# !pip install beautifulsoup4\n",
    "from bs4 import BeautifulSoup\n",
    "def read_html(file_path):\n",
    "    with open(file_path, 'r', encoding='utf-8') as file:\n",
    "        html_content = file.read()\n",
    "    soup = BeautifulSoup(html_content,'lxml')\n",
    "    \n",
    "    title = soup.title.string\n",
    "    print(f'Title: {title}')\n",
    "    \n",
    "    header = soup.h1.string\n",
    "    print(f'Header: {header}')\n",
    "    \n",
    "    p1 = soup.find('p', class_='intro').string\n",
    "    p2 = soup.find('p', id='demo').string\n",
    "    # if there exists nested tags like <b> or <strong> inside <p>\n",
    "    p3 = soup.find('p', id='get').get_text()\n",
    "    print(f'Paragraph 1: {p1}')\n",
    "    print(f'Paragraph 2: {p2}')\n",
    "    print(f'Paragraph 3: {p3}')\n",
    "    \n",
    "    list_items = soup.find_all('li')\n",
    "    \n",
    "    for item in list_items:\n",
    "        print(f'List Item: {item.string}')\n",
    "        \n",
    "file_path = './html/example.html'\n",
    "\n",
    "read_html(file_path)"
   ]
  },
  {
   "cell_type": "code",
   "execution_count": 4,
   "id": "bb6dd465-f963-41b6-91fa-ea58ffdc9650",
   "metadata": {},
   "outputs": [
    {
     "name": "stdout",
     "output_type": "stream",
     "text": [
      "Total Pages: 1\n",
      "Page 1:\n",
      "Data engineering with Python  Resource persons : ksh, lksk, humera and salman  2 days conducted \n",
      "\n"
     ]
    }
   ],
   "source": [
    "#!pip install PyPDF2\n",
    "import PyPDF2\n",
    "def read_pdf(file_path):\n",
    "    with open(file_path,'rb') as file:\n",
    "        pdf_reader = PyPDF2.PdfReader(file)\n",
    "        num_pages = len(pdf_reader.pages)\n",
    "        print(f'Total Pages: {num_pages}')\n",
    "        for page_num in range(num_pages):\n",
    "            page = pdf_reader.pages[page_num]\n",
    "            text = page.extract_text()\n",
    "            print(f'Page {page_num + 1}:\\n{text}\\n')\n",
    "            \n",
    "file_path = './pdf/example.pdf'\n",
    "read_pdf(file_path)"
   ]
  },
  {
   "cell_type": "code",
   "execution_count": 5,
   "id": "41bcd10a-fa4c-4665-99c2-6b92a16885aa",
   "metadata": {},
   "outputs": [
    {
     "name": "stdout",
     "output_type": "stream",
     "text": [
      "Name: Alice\n",
      "Age: 30\n",
      "City: Wonderland\n"
     ]
    }
   ],
   "source": [
    "import xml.etree.ElementTree as ET\n",
    "def read_xml(file_path):\n",
    "    tree = ET.parse('./xml/example.xml')\n",
    "    root = tree.getroot()\n",
    "\n",
    "    name = root.find('name').text\n",
    "    age = root.find('age').text\n",
    "    city = root.find('city').text\n",
    "\n",
    "    print(f'Name: {name}')\n",
    "    print(f'Age: {age}')\n",
    "    print(f'City: {city}')\n",
    "\n",
    "file_path = './xml/example.xml'\n",
    "read_xml(file_path)"
   ]
  }
 ],
 "metadata": {
  "kernelspec": {
   "display_name": "Python 3 (ipykernel)",
   "language": "python",
   "name": "python3"
  },
  "language_info": {
   "codemirror_mode": {
    "name": "ipython",
    "version": 3
   },
   "file_extension": ".py",
   "mimetype": "text/x-python",
   "name": "python",
   "nbconvert_exporter": "python",
   "pygments_lexer": "ipython3",
   "version": "3.12.4"
  }
 },
 "nbformat": 4,
 "nbformat_minor": 5
}
